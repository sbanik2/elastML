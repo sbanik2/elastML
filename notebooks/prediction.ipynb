{
 "cells": [
  {
   "cell_type": "code",
   "execution_count": 1,
   "id": "2457a937-9d4f-433d-89e0-675f431db029",
   "metadata": {},
   "outputs": [],
   "source": [
    "from elastML.features import FeaExtraction\n",
    "from elastML.predict import model_predict"
   ]
  },
  {
   "cell_type": "markdown",
   "id": "e3f42868-7e7b-4a20-ba91-61d2cd6a736d",
   "metadata": {},
   "source": [
    "# material project ids"
   ]
  },
  {
   "cell_type": "code",
   "execution_count": 2,
   "id": "64177df1-eca4-4890-8514-4eb25e6abe00",
   "metadata": {},
   "outputs": [],
   "source": [
    "ids = [\"mp-1007666\",\"mp-10212\",\"mp-66\",\"mp-108\"]"
   ]
  },
  {
   "cell_type": "markdown",
   "id": "a0cab5ba-1e31-4492-b055-0c5bbb767ab1",
   "metadata": {},
   "source": [
    "# extract features from the structures"
   ]
  },
  {
   "cell_type": "code",
   "execution_count": 3,
   "id": "ab69bd9e-fa42-4c2a-8091-206f652d2a60",
   "metadata": {},
   "outputs": [
    {
     "name": "stderr",
     "output_type": "stream",
     "text": [
      "/global/cfs/cdirs/m3560/suvo/anaconda3/lib/python3.10/site-packages/pymatgen/ext/matproj.py:185: UserWarning: You are using the legacy MPRester. This version of the MPRester will no longer be updated. To access the latest data with the new MPRester, obtain a new API key from https://materialsproject.org/api and consult the docs at https://docs.materialsproject.org/ for more information.\n",
      "  warnings.warn(\n"
     ]
    },
    {
     "data": {
      "application/vnd.jupyter.widget-view+json": {
       "model_id": "0a65c38aaf6946f19ac2904f7c15d029",
       "version_major": 2,
       "version_minor": 0
      },
      "text/plain": [
       "StrToComposition:   0%|          | 0/4 [00:00<?, ?it/s]"
      ]
     },
     "metadata": {},
     "output_type": "display_data"
    },
    {
     "data": {
      "application/vnd.jupyter.widget-view+json": {
       "model_id": "b822c0879d8641b29ccd7cb05434c923",
       "version_major": 2,
       "version_minor": 0
      },
      "text/plain": [
       "ElementProperty:   0%|          | 0/4 [00:00<?, ?it/s]"
      ]
     },
     "metadata": {},
     "output_type": "display_data"
    },
    {
     "data": {
      "application/vnd.jupyter.widget-view+json": {
       "model_id": "22f6d2413d434ed5be32aed623514f5d",
       "version_major": 2,
       "version_minor": 0
      },
      "text/plain": [
       "ElementProperty:   0%|          | 0/4 [00:00<?, ?it/s]"
      ]
     },
     "metadata": {},
     "output_type": "display_data"
    },
    {
     "data": {
      "application/vnd.jupyter.widget-view+json": {
       "model_id": "278a2d1000d049a180c4890955a3570b",
       "version_major": 2,
       "version_minor": 0
      },
      "text/plain": [
       "ElementProperty:   0%|          | 0/4 [00:00<?, ?it/s]"
      ]
     },
     "metadata": {},
     "output_type": "display_data"
    },
    {
     "data": {
      "application/vnd.jupyter.widget-view+json": {
       "model_id": "a4c9474213b5423d9fe1eafd706f1be9",
       "version_major": 2,
       "version_minor": 0
      },
      "text/plain": [
       "Stoichiometry:   0%|          | 0/4 [00:00<?, ?it/s]"
      ]
     },
     "metadata": {},
     "output_type": "display_data"
    }
   ],
   "source": [
    "api_key = \"Esc2lnMk6K1iNVBEx0\"\n",
    "\n",
    "materials_id = {\"material_id\":{\"$in\":ids}}\n",
    "\n",
    "fea = FeaExtraction(\n",
    "                 materials_id,\n",
    "                 api_key\n",
    "                )"
   ]
  },
  {
   "cell_type": "markdown",
   "id": "523de9b4-92f3-4799-9e39-75df9c29f1b5",
   "metadata": {},
   "source": [
    "# Generate scaled data for pretrained models"
   ]
  },
  {
   "cell_type": "markdown",
   "id": "055e0668-ef61-48d1-83e0-74b6218b52ec",
   "metadata": {},
   "source": [
    "Pretrained models are trained on 150 features selected based on precomputed mRMR feature relevance, as described in the paper https://doi.org/10.26434/chemrxiv-2023-07vcr"
   ]
  },
  {
   "cell_type": "code",
   "execution_count": 4,
   "id": "0cfe4486-d2eb-41d7-b281-61fda88ad907",
   "metadata": {},
   "outputs": [],
   "source": [
    "\n",
    "predict_transform, target =fea.get_predict_data(\n",
    "                                                feature_relevance ='mrmr_precomputed',\n",
    "                                                target=\"Bulk\",  # or \"Shear\"\n",
    "                                                n_features=150,\n",
    "                                            )\n"
   ]
  },
  {
   "cell_type": "markdown",
   "id": "77943ff9-b6cb-44a7-ac24-bba03cded697",
   "metadata": {},
   "source": [
    "# Prediction with pretrained ML models"
   ]
  },
  {
   "cell_type": "markdown",
   "id": "01293114-85c7-47b6-b27e-cc69a7fb6c43",
   "metadata": {},
   "source": [
    "Available options 'LR', 'KNN', 'SVR', 'GPR', 'RF', 'GBM', 'KRR', 'MLP'"
   ]
  },
  {
   "cell_type": "code",
   "execution_count": 5,
   "id": "b97dbe01-7325-487e-a8bf-f3101ca9892d",
   "metadata": {},
   "outputs": [
    {
     "name": "stdout",
     "output_type": "stream",
     "text": [
      "mae error: 1.0881069612434047 GPa\n"
     ]
    }
   ],
   "source": [
    "predict = model_predict(\n",
    "              predict_transform, \n",
    "              target, \n",
    "              prop=\"Bulk\",  # or \"Shear\"\n",
    "              model_name=\"SVR\",\n",
    "              print_mae=True)"
   ]
  },
  {
   "cell_type": "code",
   "execution_count": 6,
   "id": "7fb1c3b9-5e24-467c-a538-2c60e7937a82",
   "metadata": {},
   "outputs": [
    {
     "data": {
      "text/plain": [
       "Text(0, 0.5, 'target')"
      ]
     },
     "execution_count": 6,
     "metadata": {},
     "output_type": "execute_result"
    },
    {
     "data": {
      "image/png": "[encoded data removed]",
      "text/plain": [
       "<Figure size 640x480 with 1 Axes>"
      ]
     },
     "metadata": {},
     "output_type": "display_data"
    }
   ],
   "source": [
    "import matplotlib.pyplot as plt\n",
    "\n",
    "plt.scatter(predict,target,s=60)\n",
    "ax= plt.gca()\n",
    "ax.axline([0, 0], [1, 1],zorder=0,linestyle=\"dashed\",color=\"k\")\n",
    "plt.xlabel(\"Predicted\",size=16)\n",
    "plt.ylabel(\"target\",size=16)"
   ]
  },
  {
   "cell_type": "code",
   "execution_count": null,
   "id": "8ae50dc3-3bed-45a4-94dd-55f89669dadd",
   "metadata": {},
   "outputs": [],
   "source": []
  }
 ],
 "metadata": {
  "kernelspec": {
   "display_name": "anaconda_m3560",
   "language": "python",
   "name": "anaconda_m3560"
  },
  "language_info": {
   "codemirror_mode": {
    "name": "ipython",
    "version": 3
   },
   "file_extension": ".py",
   "mimetype": "text/x-python",
   "name": "python",
   "nbconvert_exporter": "python",
   "pygments_lexer": "ipython3",
   "version": "3.10.9"
  }
 },
 "nbformat": 4,
 "nbformat_minor": 5
}
