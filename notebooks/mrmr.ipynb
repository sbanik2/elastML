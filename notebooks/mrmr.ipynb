{
 "cells": [
  {
   "cell_type": "code",
   "execution_count": 1,
   "id": "2457a937-9d4f-433d-89e0-675f431db029",
   "metadata": {},
   "outputs": [],
   "source": [
    "from elastML.features import FeaExtraction\n",
    "from elastML.predict import model_predict\n",
    "from mrmr import mrmr_regression"
   ]
  },
  {
   "cell_type": "markdown",
   "id": "e3f42868-7e7b-4a20-ba91-61d2cd6a736d",
   "metadata": {},
   "source": [
    "# material project ids"
   ]
  },
  {
   "cell_type": "code",
   "execution_count": 2,
   "id": "64177df1-eca4-4890-8514-4eb25e6abe00",
   "metadata": {},
   "outputs": [],
   "source": [
    "ids = [\"mp-1007666\",\"mp-10212\",\"mp-66\",\"mp-108\"]"
   ]
  },
  {
   "cell_type": "markdown",
   "id": "a0cab5ba-1e31-4492-b055-0c5bbb767ab1",
   "metadata": {},
   "source": [
    "# extract features from the structures"
   ]
  },
  {
   "cell_type": "code",
   "execution_count": 3,
   "id": "ab69bd9e-fa42-4c2a-8091-206f652d2a60",
   "metadata": {},
   "outputs": [
    {
     "data": {
      "application/vnd.jupyter.widget-view+json": {
       "model_id": "cc709eb4bbc44d7a9c2ac86cf7d711a8",
       "version_major": 2,
       "version_minor": 0
      },
      "text/plain": [
       "StrToComposition:   0%|          | 0/4 [00:00<?, ?it/s]"
      ]
     },
     "metadata": {},
     "output_type": "display_data"
    },
    {
     "data": {
      "application/vnd.jupyter.widget-view+json": {
       "model_id": "fb73feb2499147008e109a3740d29604",
       "version_major": 2,
       "version_minor": 0
      },
      "text/plain": [
       "ElementProperty:   0%|          | 0/4 [00:00<?, ?it/s]"
      ]
     },
     "metadata": {},
     "output_type": "display_data"
    },
    {
     "data": {
      "application/vnd.jupyter.widget-view+json": {
       "model_id": "245724a43ebe47c3aeea4bfbe522bbe1",
       "version_major": 2,
       "version_minor": 0
      },
      "text/plain": [
       "ElementProperty:   0%|          | 0/4 [00:00<?, ?it/s]"
      ]
     },
     "metadata": {},
     "output_type": "display_data"
    },
    {
     "data": {
      "application/vnd.jupyter.widget-view+json": {
       "model_id": "5152f2d1a5084ac4b19a0b1d935ac4ea",
       "version_major": 2,
       "version_minor": 0
      },
      "text/plain": [
       "ElementProperty:   0%|          | 0/4 [00:00<?, ?it/s]"
      ]
     },
     "metadata": {},
     "output_type": "display_data"
    },
    {
     "data": {
      "application/vnd.jupyter.widget-view+json": {
       "model_id": "8d92d2bccde34ebab3afdf647bee163c",
       "version_major": 2,
       "version_minor": 0
      },
      "text/plain": [
       "Stoichiometry:   0%|          | 0/4 [00:00<?, ?it/s]"
      ]
     },
     "metadata": {},
     "output_type": "display_data"
    }
   ],
   "source": [
    "api_key = \"Esc2lnMk6K1iNVBEx0\"\n",
    "\n",
    "materials_id = {\"material_id\":{\"$in\":ids}}\n",
    "\n",
    "fea = FeaExtraction(\n",
    "                 materials_id,\n",
    "                 api_key\n",
    "                )"
   ]
  },
  {
   "cell_type": "markdown",
   "id": "523de9b4-92f3-4799-9e39-75df9c29f1b5",
   "metadata": {},
   "source": [
    "#  Get the feature set for initial relevance calculation using mRmR"
   ]
  },
  {
   "cell_type": "markdown",
   "id": "055e0668-ef61-48d1-83e0-74b6218b52ec",
   "metadata": {},
   "source": [
    "Pretrained models are trained on 150 features selected based on precomputed mRMR feature relevance, as described in the paper https://doi.org/10.26434/chemrxiv-2023-07vcr"
   ]
  },
  {
   "cell_type": "code",
   "execution_count": 5,
   "id": "0cfe4486-d2eb-41d7-b281-61fda88ad907",
   "metadata": {},
   "outputs": [],
   "source": [
    "\n",
    "features =fea.get_features()\n",
    "target = fea.data[[\"K_VRH\"]]\n"
   ]
  },
  {
   "cell_type": "markdown",
   "id": "77943ff9-b6cb-44a7-ac24-bba03cded697",
   "metadata": {},
   "source": [
    "# mrmr"
   ]
  },
  {
   "cell_type": "code",
   "execution_count": 6,
   "id": "b97dbe01-7325-487e-a8bf-f3101ca9892d",
   "metadata": {},
   "outputs": [
    {
     "name": "stderr",
     "output_type": "stream",
     "text": [
      "100%|██████████| 80/80 [00:44<00:00,  1.81it/s]\n"
     ]
    }
   ],
   "source": [
    "\n",
    "\n",
    "selected_features, relevance, redundancy =  mrmr_regression(X=features,\n",
    "                                                            y=target, \n",
    "                                                            K=80,\n",
    "                                                            relevance='f', \n",
    "                                                            redundancy='c', \n",
    "                                                            denominator='mean',\n",
    "                                                            cat_features=None, \n",
    "                                                            cat_encoding='leave_one_out',\n",
    "                                                            only_same_domain=False, \n",
    "                                                            return_scores=True,\n",
    "                                                            n_jobs=-1, \n",
    "                                                            show_progress=True\n",
    "                                            )"
   ]
  },
  {
   "cell_type": "code",
   "execution_count": 19,
   "id": "40a5dcdb-460f-412d-9e0c-242616319400",
   "metadata": {
    "tags": []
   },
   "outputs": [
    {
     "data": {
      "text/plain": [
       "(array([-25.,   0.,  25.,  50.,  75., 100., 125., 150., 175., 200., 225.]),\n",
       " [Text(-25.0, 0, 'F16'),\n",
       "  Text(0.0, 0, 'minimum_Number'),\n",
       "  Text(25.0, 0, 'maximum_Row'),\n",
       "  Text(50.0, 0, 'mode_NsValence'),\n",
       "  Text(75.0, 0, 'maximum_NsUnfilled'),\n",
       "  Text(100.0, 0, 'mean_NUnfilled'),\n",
       "  Text(125.0, 0, 'avg_dev_GSbandgap'),\n",
       "  Text(150.0, 0, 'maximum_first_ioniz'),\n",
       "  Text(175.0, 0, 'F14'),\n",
       "  Text(200.0, 0, '7-norm'),\n",
       "  Text(225.0, 0, '')])"
      ]
     },
     "execution_count": 19,
     "metadata": {},
     "output_type": "execute_result"
    },
    {
     "data": {
      "image/png": "[encoded data removed]",
      "text/plain": [
       "<Figure size 640x480 with 1 Axes>"
      ]
     },
     "metadata": {},
     "output_type": "display_data"
    }
   ],
   "source": [
    "import matplotlib.pyplot as plt\n",
    "relevance.plot()\n",
    "plt.xticks(rotation = 90)"
   ]
  },
  {
   "cell_type": "code",
   "execution_count": 15,
   "id": "8ae50dc3-3bed-45a4-94dd-55f89669dadd",
   "metadata": {
    "collapsed": true,
    "jupyter": {
     "outputs_hidden": true
    },
    "tags": []
   },
   "outputs": [
    {
     "data": {
      "text/plain": [
       "Index(['minimum_Number', 'maximum_Number', 'range_Number', 'mean_Number',\n",
       "       'avg_dev_Number', 'mode_Number', 'minimum_MendeleevNumber',\n",
       "       'maximum_MendeleevNumber', 'range_MendeleevNumber',\n",
       "       'mean_MendeleevNumber',\n",
       "       ...\n",
       "       'band_gap', 'density', 'total_magnetization', 'vpa', '0-norm', '2-norm',\n",
       "       '3-norm', '5-norm', '7-norm', '10-norm'],\n",
       "      dtype='object', length=202)"
      ]
     },
     "execution_count": 15,
     "metadata": {},
     "output_type": "execute_result"
    }
   ],
   "source": [
    "relevance.index"
   ]
  },
  {
   "cell_type": "code",
   "execution_count": null,
   "id": "4ca3733e-b2ee-448c-91af-da09b7c7350f",
   "metadata": {},
   "outputs": [],
   "source": []
  }
 ],
 "metadata": {
  "kernelspec": {
   "display_name": "anaconda_m3560",
   "language": "python",
   "name": "anaconda_m3560"
  },
  "language_info": {
   "codemirror_mode": {
    "name": "ipython",
    "version": 3
   },
   "file_extension": ".py",
   "mimetype": "text/x-python",
   "name": "python",
   "nbconvert_exporter": "python",
   "pygments_lexer": "ipython3",
   "version": "3.10.9"
  }
 },
 "nbformat": 4,
 "nbformat_minor": 5
}
